{
 "cells": [
  {
   "cell_type": "code",
   "execution_count": null,
   "metadata": {},
   "outputs": [],
   "source": [
    "import time\n",
    "import sys\n",
    "import os\n",
    "import argparse\n",
    "import numpy as np\n",
    "import pandas as pd"
   ]
  },
  {
   "cell_type": "code",
   "execution_count": null,
   "metadata": {},
   "outputs": [],
   "source": [
    "def _load_and_preprocess_data(data_path):\n",
    "    \"\"\" Load and preprocess the data. \"\"\"\n",
    "\n",
    "    src_path = os.path.join(data_path, 'source')\n",
    "    tgt_path = os.path.join(data_path, 'target')\n",
    "\n",
    "    # source files\n",
    "    source_files = [f for f in os.listdir(\n",
    "        src_path) if os.path.isfile(os.path.join(src_path, f))]\n",
    "    source_files = [os.path.join(src_path, f)\n",
    "                    for f in source_files if '.csv' in f]\n",
    "    # 找到所有路徑內尾部有.csv的檔案\n",
    "    # target files\n",
    "    target_files = [f for f in os.listdir(\n",
    "        tgt_path) if os.path.isfile(os.path.join(tgt_path, f))]\n",
    "    target_files = [os.path.join(tgt_path, f)\n",
    "                    for f in target_files if '.csv' in f]\n",
    "\n",
    "    # load the data\n",
    "    source_sets = dict()\n",
    "    for sf in source_files:\n",
    "        data = pd.read_csv(sf, sep=',', index_col=0).sample(\n",
    "            frac=1).reset_index(drop=True)\n",
    "        file_name = os.path.split(sf)[1].split('.csv')[0]\n",
    "        source_sets[file_name] = data\n",
    "\n",
    "    target_sets = dict()\n",
    "    for sf in target_files:\n",
    "        data = pd.read_csv(sf, sep=',', index_col=0).sample(\n",
    "            frac=1).reset_index(drop=True)\n",
    "        file_name = os.path.split(sf)[1].split('.csv')[0]\n",
    "        target_sets[file_name] = data\n",
    "    \n",
    "    return source_sets, target_sets"
   ]
  },
  {
   "cell_type": "code",
   "execution_count": null,
   "metadata": {},
   "outputs": [],
   "source": [
    "parser = argparse.ArgumentParser(\n",
    "description='Run transfer learning - anomaly detection experiment')\n",
    "parser.add_argument('-d', '--dataset', type=str, default='shuttle',\n",
    "    help='dataset = folder in data/ directory default \\'shuttle\\'')\n",
    "parser.add_argument('-m', '--method', type=str,\n",
    "    default='locit', help='method to use,default \\'locit\\'')\n",
    "args, unknownargs = parser.parse_known_args()"
   ]
  },
  {
   "cell_type": "code",
   "execution_count": null,
   "metadata": {},
   "outputs": [],
   "source": [
    "transfer_difficulty = {\n",
    "        'n1_a1': 1,\n",
    "        'n1_a2': 2,\n",
    "        'n2_a1': 4,\n",
    "        'n12_a1': 3,\n",
    "        'n12_a12': 3,\n",
    "        'n2_a2': 5}"
   ]
  },
  {
   "cell_type": "code",
   "execution_count": null,
   "metadata": {},
   "outputs": [],
   "source": [
    "main_path = os.path.dirname(os.path.abspath(__file__))\n",
    "data_path = os.path.join(main_path, 'data', args.dataset)\n",
    "print(f'The experiments are executed on the {args.dataset} data')"
   ]
  },
  {
   "cell_type": "code",
   "execution_count": null,
   "metadata": {},
   "outputs": [],
   "source": [
    "source_sets, target_sets = _load_and_preprocess_data(data_path)"
   ]
  },
  {
   "cell_type": "code",
   "execution_count": null,
   "metadata": {},
   "outputs": [],
   "source": [
    "auc_results = dict()\n",
    "dataset_name = ''"
   ]
  }
 ],
 "metadata": {
  "kernelspec": {
   "display_name": "Python 3.9.6 64-bit",
   "language": "python",
   "name": "python3"
  },
  "language_info": {
   "name": "python",
   "version": "3.9.6"
  },
  "orig_nbformat": 4,
  "vscode": {
   "interpreter": {
    "hash": "31f2aee4e71d21fbe5cf8b01ff0e069b9275f58929596ceb00d14d90e3e16cd6"
   }
  }
 },
 "nbformat": 4,
 "nbformat_minor": 2
}
